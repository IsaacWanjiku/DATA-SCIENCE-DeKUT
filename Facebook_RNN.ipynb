{
  "cells": [
    {
      "cell_type": "markdown",
      "metadata": {
        "id": "view-in-github",
        "colab_type": "text"
      },
      "source": [
        "<a href=\"https://colab.research.google.com/github/IsaacWanjiku/DATA-SCIENCE-DeKUT/blob/main/Facebook_RNN.ipynb\" target=\"_parent\"><img src=\"https://colab.research.google.com/assets/colab-badge.svg\" alt=\"Open In Colab\"/></a>"
      ]
    },
    {
      "cell_type": "markdown",
      "id": "8a81d0a0",
      "metadata": {
        "id": "8a81d0a0"
      },
      "source": [
        "\n",
        "# LSTM Use Case\n",
        "Now that you understand how LSTMs work, let’s do a practical implementation to predict the prices of stocks using the “Google stock price” data.\n",
        "\n",
        "Based on the stock price data between 2012 and 2016, we will predict the stock prices of 2017.\n",
        "\n",
        "## 1. Import the required libraries"
      ]
    },
    {
      "cell_type": "code",
      "source": [
        "from google.colab import drive\n",
        "drive.mount('/content/drive')"
      ],
      "metadata": {
        "colab": {
          "base_uri": "https://localhost:8080/"
        },
        "id": "CTzCd6q4kxlf",
        "outputId": "7017b408-9bbc-414e-a5e6-5f5dfce82796"
      },
      "id": "CTzCd6q4kxlf",
      "execution_count": 1,
      "outputs": [
        {
          "output_type": "stream",
          "name": "stdout",
          "text": [
            "Mounted at /content/drive\n"
          ]
        }
      ]
    },
    {
      "cell_type": "code",
      "execution_count": 2,
      "id": "18f44517",
      "metadata": {
        "id": "18f44517"
      },
      "outputs": [],
      "source": [
        "import matplotlib.pyplot as plt\n",
        "import pandas as pd\n",
        "import numpy as np"
      ]
    },
    {
      "cell_type": "markdown",
      "id": "f8282b71",
      "metadata": {
        "id": "f8282b71"
      },
      "source": [
        "## 2. Import the training dataset"
      ]
    },
    {
      "cell_type": "code",
      "execution_count": 5,
      "id": "8898eb92",
      "metadata": {
        "id": "8898eb92"
      },
      "outputs": [],
      "source": [
        "dataset_train = pd.read_csv('Google_Stock_Price_Train.csv')\n",
        "training_set = dataset_train.iloc [:, 1:2].values"
      ]
    },
    {
      "cell_type": "markdown",
      "id": "10e04c9c",
      "metadata": {
        "id": "10e04c9c"
      },
      "source": [
        "## 3. Perform feature scaling to transform the data"
      ]
    },
    {
      "cell_type": "code",
      "execution_count": 6,
      "id": "8d47aafb",
      "metadata": {
        "id": "8d47aafb"
      },
      "outputs": [],
      "source": [
        "# feature scaling\n",
        "from sklearn.preprocessing import MinMaxScaler\n",
        "sc = MinMaxScaler(feature_range = (0,1))\n",
        "training_set_scaled = sc.fit_transform(training_set)"
      ]
    },
    {
      "cell_type": "markdown",
      "id": "c70893de",
      "metadata": {
        "id": "c70893de"
      },
      "source": [
        "# 4. Create a data structure with 60-time steps and 1 output"
      ]
    },
    {
      "cell_type": "code",
      "execution_count": 7,
      "id": "6d597f87",
      "metadata": {
        "id": "6d597f87"
      },
      "outputs": [],
      "source": [
        "x_train = []\n",
        "y_train = []\n",
        "for i in range (60,1258):\n",
        "    x_train.append(training_set_scaled[i-60:i,0])\n",
        "    y_train.append(training_set_scaled[i,0])\n",
        "x_train,y_train = np.array(x_train), np.array(y_train)\n",
        "\n",
        "#reshaping\n",
        "x_train = np.reshape(x_train, (x_train.shape[0], x_train.shape[1], 1))"
      ]
    },
    {
      "cell_type": "markdown",
      "id": "349bac4b",
      "metadata": {
        "id": "349bac4b"
      },
      "source": [
        "# 5. Import Keras library and its packages"
      ]
    },
    {
      "cell_type": "code",
      "execution_count": null,
      "id": "b2e7f6d5",
      "metadata": {
        "id": "b2e7f6d5",
        "outputId": "85cdd7f7-16da-4aad-f7c4-383684111f9f"
      },
      "outputs": [
        {
          "name": "stdout",
          "output_type": "stream",
          "text": [
            "Collecting keras\n",
            "  Downloading keras-3.4.1-py3-none-any.whl (1.1 MB)\n",
            "\u001b[K     |████████████████████████████████| 1.1 MB 37 kB/s eta 0:00:01\n",
            "\u001b[?25hRequirement already satisfied: packaging in ./anaconda3/lib/python3.9/site-packages (from keras) (21.3)\n",
            "Collecting absl-py\n",
            "  Downloading absl_py-2.1.0-py3-none-any.whl (133 kB)\n",
            "\u001b[K     |████████████████████████████████| 133 kB 25 kB/s eta 0:00:01\n",
            "\u001b[?25hCollecting ml-dtypes\n",
            "  Downloading ml_dtypes-0.4.0-cp39-cp39-manylinux_2_17_x86_64.manylinux2014_x86_64.whl (2.2 MB)\n",
            "\u001b[K     |████████████████████████████████| 2.2 MB 29 kB/s eta 0:00:01\n",
            "\u001b[?25hRequirement already satisfied: h5py in ./anaconda3/lib/python3.9/site-packages (from keras) (3.6.0)\n",
            "Collecting rich\n",
            "  Downloading rich-13.7.1-py3-none-any.whl (240 kB)\n",
            "\u001b[K     |████████████████████████████████| 240 kB 24 kB/s eta 0:00:01\n",
            "\u001b[?25hRequirement already satisfied: numpy in ./anaconda3/lib/python3.9/site-packages (from keras) (1.21.5)\n",
            "Collecting namex\n",
            "  Downloading namex-0.0.8-py3-none-any.whl (5.8 kB)\n",
            "Collecting optree\n",
            "  Downloading optree-0.12.1-cp39-cp39-manylinux_2_17_x86_64.manylinux2014_x86_64.whl (347 kB)\n",
            "\u001b[K     |████████████████████████████████| 347 kB 30 kB/s eta 0:00:01\n",
            "\u001b[?25hCollecting typing-extensions>=4.5.0\n",
            "  Downloading typing_extensions-4.12.2-py3-none-any.whl (37 kB)\n",
            "Requirement already satisfied: pyparsing!=3.0.5,>=2.0.2 in ./anaconda3/lib/python3.9/site-packages (from packaging->keras) (3.0.4)\n",
            "Collecting markdown-it-py>=2.2.0\n",
            "  Downloading markdown_it_py-3.0.0-py3-none-any.whl (87 kB)\n",
            "\u001b[K     |████████████████████████████████| 87 kB 43 kB/s eta 0:00:01\n",
            "\u001b[?25hCollecting pygments<3.0.0,>=2.13.0\n",
            "  Downloading pygments-2.18.0-py3-none-any.whl (1.2 MB)\n",
            "\u001b[K     |████████████████████████████████| 1.2 MB 34 kB/s eta 0:00:01\n",
            "\u001b[?25hCollecting mdurl~=0.1\n",
            "  Downloading mdurl-0.1.2-py3-none-any.whl (10.0 kB)\n",
            "Installing collected packages: mdurl, typing-extensions, pygments, markdown-it-py, rich, optree, namex, ml-dtypes, absl-py, keras\n",
            "  Attempting uninstall: typing-extensions\n",
            "    Found existing installation: typing-extensions 4.1.1\n",
            "    Uninstalling typing-extensions-4.1.1:\n",
            "      Successfully uninstalled typing-extensions-4.1.1\n",
            "  Attempting uninstall: pygments\n",
            "    Found existing installation: Pygments 2.11.2\n",
            "    Uninstalling Pygments-2.11.2:\n",
            "      Successfully uninstalled Pygments-2.11.2\n",
            "\u001b[31mERROR: pip's dependency resolver does not currently take into account all the packages that are installed. This behaviour is the source of the following dependency conflicts.\n",
            "spyder 5.1.5 requires pyqt5<5.13, which is not installed.\n",
            "spyder 5.1.5 requires pyqtwebengine<5.13, which is not installed.\u001b[0m\n",
            "Successfully installed absl-py-2.1.0 keras-3.4.1 markdown-it-py-3.0.0 mdurl-0.1.2 ml-dtypes-0.4.0 namex-0.0.8 optree-0.12.1 pygments-2.18.0 rich-13.7.1 typing-extensions-4.12.2\n",
            "Note: you may need to restart the kernel to use updated packages.\n"
          ]
        }
      ],
      "source": [
        "pip install keras"
      ]
    },
    {
      "cell_type": "code",
      "execution_count": 8,
      "id": "e0dbc9b6",
      "metadata": {
        "id": "e0dbc9b6"
      },
      "outputs": [],
      "source": [
        "from keras.models import Sequential\n",
        "from keras.layers import Dense\n",
        "from keras.layers import LSTM\n",
        "from keras.layers import Dropout"
      ]
    },
    {
      "cell_type": "markdown",
      "id": "16c29729",
      "metadata": {
        "id": "16c29729"
      },
      "source": [
        "# 6. Initialize the RNN"
      ]
    },
    {
      "cell_type": "code",
      "execution_count": 9,
      "id": "02b15fd2",
      "metadata": {
        "id": "02b15fd2"
      },
      "outputs": [],
      "source": [
        "regressor = Sequential()"
      ]
    },
    {
      "cell_type": "markdown",
      "id": "75bff88d",
      "metadata": {
        "id": "75bff88d"
      },
      "source": [
        "# 7. Add the LSTM layers and some dropout regularization."
      ]
    },
    {
      "cell_type": "code",
      "execution_count": 10,
      "id": "67ead413",
      "metadata": {
        "id": "67ead413"
      },
      "outputs": [],
      "source": [
        "# adding the first LSTM  layer and some Dropout regularisation\n",
        "regressor.add(LSTM(units = 50, return_sequences = True, input_shape = (x_train.shape[1],1)))\n",
        "regressor.add(Dropout(0.2))"
      ]
    },
    {
      "cell_type": "code",
      "execution_count": 11,
      "id": "8db4c438",
      "metadata": {
        "id": "8db4c438"
      },
      "outputs": [],
      "source": [
        "# adding a second LSTM layer and some Dropout regularisation\n",
        "regressor.add(LSTM(units = 50, return_sequences = True))\n",
        "regressor.add(Dropout(0.2))"
      ]
    },
    {
      "cell_type": "code",
      "execution_count": 12,
      "id": "4899aaf5",
      "metadata": {
        "id": "4899aaf5"
      },
      "outputs": [],
      "source": [
        "#adding a third LSTM layer and some Dropout regularisation\n",
        "regressor.add(LSTM(units = 50, return_sequences = True))\n",
        "regressor.add(Dropout(0.2))"
      ]
    },
    {
      "cell_type": "code",
      "execution_count": 13,
      "id": "6851384e",
      "metadata": {
        "id": "6851384e"
      },
      "outputs": [],
      "source": [
        "# add a forth LSTM layer and some Dropout regularisation\n",
        "regressor.add(LSTM(units = 50))\n",
        "regressor.add(Dropout(0.2))"
      ]
    },
    {
      "cell_type": "markdown",
      "id": "96d2441b",
      "metadata": {
        "id": "96d2441b"
      },
      "source": [
        "# 8. Add the output layer."
      ]
    },
    {
      "cell_type": "code",
      "execution_count": 14,
      "id": "f849ee58",
      "metadata": {
        "id": "f849ee58"
      },
      "outputs": [],
      "source": [
        "regressor.add(Dense(units = 1))"
      ]
    },
    {
      "cell_type": "markdown",
      "id": "d3fc7fe9",
      "metadata": {
        "id": "d3fc7fe9"
      },
      "source": [
        "# 9. Compile the RNN"
      ]
    },
    {
      "cell_type": "code",
      "execution_count": 15,
      "id": "b05593c8",
      "metadata": {
        "id": "b05593c8"
      },
      "outputs": [],
      "source": [
        "regressor.compile(optimizer = 'adam', loss = 'mean_squared_error')"
      ]
    },
    {
      "cell_type": "markdown",
      "id": "9476299b",
      "metadata": {
        "id": "9476299b"
      },
      "source": [
        "# 10. Fit the RNN to the training set"
      ]
    },
    {
      "cell_type": "code",
      "execution_count": 16,
      "id": "0995de2a",
      "metadata": {
        "colab": {
          "base_uri": "https://localhost:8080/"
        },
        "id": "0995de2a",
        "outputId": "92670858-9296-4b59-aa03-e3457fbbae40"
      },
      "outputs": [
        {
          "output_type": "stream",
          "name": "stdout",
          "text": [
            "Epoch 1/100\n",
            "38/38 [==============================] - 14s 151ms/step - loss: 0.0547\n",
            "Epoch 2/100\n",
            "38/38 [==============================] - 4s 110ms/step - loss: 0.0060\n",
            "Epoch 3/100\n",
            "38/38 [==============================] - 4s 113ms/step - loss: 0.0054\n",
            "Epoch 4/100\n",
            "38/38 [==============================] - 6s 151ms/step - loss: 0.0054\n",
            "Epoch 5/100\n",
            "38/38 [==============================] - 4s 111ms/step - loss: 0.0050\n",
            "Epoch 6/100\n",
            "38/38 [==============================] - 4s 106ms/step - loss: 0.0063\n",
            "Epoch 7/100\n",
            "38/38 [==============================] - 5s 143ms/step - loss: 0.0044\n",
            "Epoch 8/100\n",
            "38/38 [==============================] - 5s 125ms/step - loss: 0.0047\n",
            "Epoch 9/100\n",
            "38/38 [==============================] - 5s 126ms/step - loss: 0.0048\n",
            "Epoch 10/100\n",
            "38/38 [==============================] - 6s 145ms/step - loss: 0.0047\n",
            "Epoch 11/100\n",
            "38/38 [==============================] - 5s 122ms/step - loss: 0.0045\n",
            "Epoch 12/100\n",
            "38/38 [==============================] - 4s 106ms/step - loss: 0.0039\n",
            "Epoch 13/100\n",
            "38/38 [==============================] - 5s 122ms/step - loss: 0.0039\n",
            "Epoch 14/100\n",
            "38/38 [==============================] - 5s 134ms/step - loss: 0.0039\n",
            "Epoch 15/100\n",
            "38/38 [==============================] - 4s 100ms/step - loss: 0.0037\n",
            "Epoch 16/100\n",
            "38/38 [==============================] - 4s 107ms/step - loss: 0.0035\n",
            "Epoch 17/100\n",
            "38/38 [==============================] - 6s 154ms/step - loss: 0.0038\n",
            "Epoch 18/100\n",
            "38/38 [==============================] - 4s 107ms/step - loss: 0.0035\n",
            "Epoch 19/100\n",
            "38/38 [==============================] - 4s 112ms/step - loss: 0.0035\n",
            "Epoch 20/100\n",
            "38/38 [==============================] - 6s 155ms/step - loss: 0.0035\n",
            "Epoch 21/100\n",
            "38/38 [==============================] - 4s 105ms/step - loss: 0.0035\n",
            "Epoch 22/100\n",
            "38/38 [==============================] - 4s 104ms/step - loss: 0.0036\n",
            "Epoch 23/100\n",
            "38/38 [==============================] - 6s 152ms/step - loss: 0.0033\n",
            "Epoch 24/100\n",
            "38/38 [==============================] - 4s 102ms/step - loss: 0.0034\n",
            "Epoch 25/100\n",
            "38/38 [==============================] - 4s 103ms/step - loss: 0.0036\n",
            "Epoch 26/100\n",
            "38/38 [==============================] - 5s 141ms/step - loss: 0.0033\n",
            "Epoch 27/100\n",
            "38/38 [==============================] - 4s 115ms/step - loss: 0.0032\n",
            "Epoch 28/100\n",
            "38/38 [==============================] - 4s 104ms/step - loss: 0.0036\n",
            "Epoch 29/100\n",
            "38/38 [==============================] - 5s 124ms/step - loss: 0.0031\n",
            "Epoch 30/100\n",
            "38/38 [==============================] - 5s 135ms/step - loss: 0.0034\n",
            "Epoch 31/100\n",
            "38/38 [==============================] - 4s 112ms/step - loss: 0.0030\n",
            "Epoch 32/100\n",
            "38/38 [==============================] - 5s 129ms/step - loss: 0.0029\n",
            "Epoch 33/100\n",
            "38/38 [==============================] - 5s 122ms/step - loss: 0.0033\n",
            "Epoch 34/100\n",
            "38/38 [==============================] - 4s 110ms/step - loss: 0.0031\n",
            "Epoch 35/100\n",
            "38/38 [==============================] - 4s 117ms/step - loss: 0.0029\n",
            "Epoch 36/100\n",
            "38/38 [==============================] - 5s 134ms/step - loss: 0.0030\n",
            "Epoch 37/100\n",
            "38/38 [==============================] - 4s 108ms/step - loss: 0.0028\n",
            "Epoch 38/100\n",
            "38/38 [==============================] - 4s 101ms/step - loss: 0.0027\n",
            "Epoch 39/100\n",
            "38/38 [==============================] - 6s 160ms/step - loss: 0.0026\n",
            "Epoch 40/100\n",
            "38/38 [==============================] - 4s 104ms/step - loss: 0.0029\n",
            "Epoch 41/100\n",
            "38/38 [==============================] - 4s 107ms/step - loss: 0.0026\n",
            "Epoch 42/100\n",
            "38/38 [==============================] - 5s 146ms/step - loss: 0.0029\n",
            "Epoch 43/100\n",
            "38/38 [==============================] - 4s 109ms/step - loss: 0.0029\n",
            "Epoch 44/100\n",
            "38/38 [==============================] - 4s 103ms/step - loss: 0.0026\n",
            "Epoch 45/100\n",
            "38/38 [==============================] - 6s 147ms/step - loss: 0.0026\n",
            "Epoch 46/100\n",
            "38/38 [==============================] - 4s 106ms/step - loss: 0.0025\n",
            "Epoch 47/100\n",
            "38/38 [==============================] - 4s 103ms/step - loss: 0.0023\n",
            "Epoch 48/100\n",
            "38/38 [==============================] - 5s 123ms/step - loss: 0.0027\n",
            "Epoch 49/100\n",
            "38/38 [==============================] - 5s 128ms/step - loss: 0.0029\n",
            "Epoch 50/100\n",
            "38/38 [==============================] - 4s 101ms/step - loss: 0.0026\n",
            "Epoch 51/100\n",
            "38/38 [==============================] - 4s 113ms/step - loss: 0.0026\n",
            "Epoch 52/100\n",
            "38/38 [==============================] - 5s 142ms/step - loss: 0.0023\n",
            "Epoch 53/100\n",
            "38/38 [==============================] - 4s 105ms/step - loss: 0.0023\n",
            "Epoch 54/100\n",
            "38/38 [==============================] - 4s 101ms/step - loss: 0.0026\n",
            "Epoch 55/100\n",
            "38/38 [==============================] - 6s 151ms/step - loss: 0.0024\n",
            "Epoch 56/100\n",
            "38/38 [==============================] - 4s 104ms/step - loss: 0.0023\n",
            "Epoch 57/100\n",
            "38/38 [==============================] - 4s 117ms/step - loss: 0.0022\n",
            "Epoch 58/100\n",
            "38/38 [==============================] - 6s 163ms/step - loss: 0.0024\n",
            "Epoch 59/100\n",
            "38/38 [==============================] - 4s 118ms/step - loss: 0.0024\n",
            "Epoch 60/100\n",
            "38/38 [==============================] - 4s 108ms/step - loss: 0.0022\n",
            "Epoch 61/100\n",
            "38/38 [==============================] - 6s 153ms/step - loss: 0.0025\n",
            "Epoch 62/100\n",
            "38/38 [==============================] - 4s 102ms/step - loss: 0.0023\n",
            "Epoch 63/100\n",
            "38/38 [==============================] - 4s 103ms/step - loss: 0.0022\n",
            "Epoch 64/100\n",
            "38/38 [==============================] - 5s 137ms/step - loss: 0.0023\n",
            "Epoch 65/100\n",
            "38/38 [==============================] - 5s 121ms/step - loss: 0.0021\n",
            "Epoch 66/100\n",
            "38/38 [==============================] - 4s 108ms/step - loss: 0.0022\n",
            "Epoch 67/100\n",
            "38/38 [==============================] - 5s 141ms/step - loss: 0.0022\n",
            "Epoch 68/100\n",
            "38/38 [==============================] - 5s 124ms/step - loss: 0.0023\n",
            "Epoch 69/100\n",
            "38/38 [==============================] - 4s 110ms/step - loss: 0.0020\n",
            "Epoch 70/100\n",
            "38/38 [==============================] - 5s 124ms/step - loss: 0.0021\n",
            "Epoch 71/100\n",
            "38/38 [==============================] - 5s 126ms/step - loss: 0.0019\n",
            "Epoch 72/100\n",
            "38/38 [==============================] - 4s 109ms/step - loss: 0.0021\n",
            "Epoch 73/100\n",
            "38/38 [==============================] - 4s 106ms/step - loss: 0.0020\n",
            "Epoch 74/100\n",
            "38/38 [==============================] - 5s 143ms/step - loss: 0.0018\n",
            "Epoch 75/100\n",
            "38/38 [==============================] - 4s 103ms/step - loss: 0.0019\n",
            "Epoch 76/100\n",
            "38/38 [==============================] - 4s 106ms/step - loss: 0.0018\n",
            "Epoch 77/100\n",
            "38/38 [==============================] - 6s 155ms/step - loss: 0.0017\n",
            "Epoch 78/100\n",
            "38/38 [==============================] - 4s 104ms/step - loss: 0.0019\n",
            "Epoch 79/100\n",
            "38/38 [==============================] - 4s 106ms/step - loss: 0.0018\n",
            "Epoch 80/100\n",
            "38/38 [==============================] - 6s 155ms/step - loss: 0.0019\n",
            "Epoch 81/100\n",
            "38/38 [==============================] - 4s 101ms/step - loss: 0.0017\n",
            "Epoch 82/100\n",
            "38/38 [==============================] - 4s 107ms/step - loss: 0.0017\n",
            "Epoch 83/100\n",
            "38/38 [==============================] - 5s 130ms/step - loss: 0.0017\n",
            "Epoch 84/100\n",
            "38/38 [==============================] - 5s 118ms/step - loss: 0.0018\n",
            "Epoch 85/100\n",
            "38/38 [==============================] - 4s 104ms/step - loss: 0.0019\n",
            "Epoch 86/100\n",
            "38/38 [==============================] - 5s 119ms/step - loss: 0.0017\n",
            "Epoch 87/100\n",
            "38/38 [==============================] - 5s 133ms/step - loss: 0.0017\n",
            "Epoch 88/100\n",
            "38/38 [==============================] - 4s 107ms/step - loss: 0.0018\n",
            "Epoch 89/100\n",
            "38/38 [==============================] - 5s 121ms/step - loss: 0.0017\n",
            "Epoch 90/100\n",
            "38/38 [==============================] - 6s 155ms/step - loss: 0.0016\n",
            "Epoch 91/100\n",
            "38/38 [==============================] - 4s 101ms/step - loss: 0.0016\n",
            "Epoch 92/100\n",
            "38/38 [==============================] - 4s 114ms/step - loss: 0.0016\n",
            "Epoch 93/100\n",
            "38/38 [==============================] - 6s 153ms/step - loss: 0.0016\n",
            "Epoch 94/100\n",
            "38/38 [==============================] - 4s 104ms/step - loss: 0.0015\n",
            "Epoch 95/100\n",
            "38/38 [==============================] - 4s 102ms/step - loss: 0.0015\n",
            "Epoch 96/100\n",
            "38/38 [==============================] - 6s 159ms/step - loss: 0.0015\n",
            "Epoch 97/100\n",
            "38/38 [==============================] - 4s 106ms/step - loss: 0.0014\n",
            "Epoch 98/100\n",
            "38/38 [==============================] - 4s 105ms/step - loss: 0.0017\n",
            "Epoch 99/100\n",
            "38/38 [==============================] - 6s 160ms/step - loss: 0.0017\n",
            "Epoch 100/100\n",
            "38/38 [==============================] - 4s 112ms/step - loss: 0.0015\n"
          ]
        },
        {
          "output_type": "execute_result",
          "data": {
            "text/plain": [
              "<keras.src.callbacks.History at 0x7c256428cb20>"
            ]
          },
          "metadata": {},
          "execution_count": 16
        }
      ],
      "source": [
        "regressor.fit(x_train, y_train, epochs = 100, batch_size =32)"
      ]
    },
    {
      "cell_type": "markdown",
      "id": "58795b0c",
      "metadata": {
        "id": "58795b0c"
      },
      "source": [
        "# 11. Load the stock price test data for 2017"
      ]
    },
    {
      "cell_type": "code",
      "execution_count": 18,
      "id": "43c7f7fa",
      "metadata": {
        "id": "43c7f7fa"
      },
      "outputs": [],
      "source": [
        "dataset_test = pd.read_csv('Google_Stock_Price_Test.csv')\n",
        "real_stock_price = dataset_test.iloc[:, 1:2].values"
      ]
    },
    {
      "cell_type": "markdown",
      "id": "319a79b7",
      "metadata": {
        "id": "319a79b7"
      },
      "source": [
        "# 12. Get the predicted stock price for 2017"
      ]
    },
    {
      "cell_type": "code",
      "execution_count": 24,
      "id": "39c21cec",
      "metadata": {
        "colab": {
          "base_uri": "https://localhost:8080/"
        },
        "id": "39c21cec",
        "outputId": "fa55b4e6-0e6b-4815-f436-b404349ea344"
      },
      "outputs": [
        {
          "output_type": "stream",
          "name": "stdout",
          "text": [
            "1/1 [==============================] - 3s 3s/step\n"
          ]
        }
      ],
      "source": [
        "dataset_total = pd.concat((dataset_train['Open'], dataset_test['Open']), axis =0)\n",
        "inputs = dataset_total[len(dataset_total) - len(dataset_test) - 60:].values\n",
        "inputs = inputs.reshape(-1,1)\n",
        "inputs = sc.transform(inputs)\n",
        "x_test = []\n",
        "\n",
        "for i in range (60,80):\n",
        "    x_test.append(inputs[i-60:i,0])\n",
        "\n",
        "x_test = np.array(x_test)\n",
        "x_test = np.reshape(x_test, (x_test.shape[0], x_test.shape[1],1))\n",
        "predicted_stock_price = regressor.predict(x_test)\n",
        "predicted_stock_price = sc.inverse_transform(predicted_stock_price)\n",
        ""
      ]
    },
    {
      "cell_type": "markdown",
      "id": "f44c8450",
      "metadata": {
        "id": "f44c8450"
      },
      "source": [
        "# 13. Visualize the results of predicted and real stock price"
      ]
    },
    {
      "cell_type": "code",
      "execution_count": 25,
      "id": "c8142caa",
      "metadata": {
        "colab": {
          "base_uri": "https://localhost:8080/",
          "height": 472
        },
        "id": "c8142caa",
        "outputId": "5d9c90ee-b1e7-4d46-bb5d-4a378fcb39bb"
      },
      "outputs": [
        {
          "output_type": "display_data",
          "data": {
            "text/plain": [
              "<Figure size 640x480 with 1 Axes>"
            ],
            "image/png": "[encoded data removed]"
          },
          "metadata": {}
        }
      ],
      "source": [
        "plt.plot(real_stock_price, color = 'red', label = 'Real Google Stock Price')\n",
        "plt.plot(predicted_stock_price, color = 'blue', label = 'Predicted Google Stock Price')\n",
        "plt.title('Google Stock Price Prediction')\n",
        "plt.xlabel('Time')\n",
        "plt.ylabel('Google Stock Price')\n",
        "plt.legend()\n",
        "plt.show()"
      ]
    },
    {
      "cell_type": "code",
      "execution_count": null,
      "id": "bae97690",
      "metadata": {
        "id": "bae97690"
      },
      "outputs": [],
      "source": []
    }
  ],
  "metadata": {
    "kernelspec": {
      "display_name": "Python 3 (ipykernel)",
      "language": "python",
      "name": "python3"
    },
    "language_info": {
      "codemirror_mode": {
        "name": "ipython",
        "version": 3
      },
      "file_extension": ".py",
      "mimetype": "text/x-python",
      "name": "python",
      "nbconvert_exporter": "python",
      "pygments_lexer": "ipython3",
      "version": "3.9.12"
    },
    "colab": {
      "provenance": [],
      "include_colab_link": true
    }
  },
  "nbformat": 4,
  "nbformat_minor": 5
}